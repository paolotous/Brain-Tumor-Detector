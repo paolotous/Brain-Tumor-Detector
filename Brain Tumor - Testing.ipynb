{
 "cells": [
  {
   "cell_type": "code",
   "execution_count": 3,
   "metadata": {},
   "outputs": [],
   "source": [
    "import joblib\n",
    "\n",
    "model = joblib.load('brain_cluster.sav')\n",
    "tumorLabel = 0"
   ]
  },
  {
   "cell_type": "code",
   "execution_count": 12,
   "metadata": {},
   "outputs": [],
   "source": [
    "import os\n",
    "import cv2\n",
    "import matplotlib.pyplot as plt\n",
    "import numpy as np\n",
    "\n",
    "test_path = 'test_images'\n",
    "test_names = os.listdir(test_path)\n",
    "\n",
    "for test_name in test_names:\n",
    "    if test_name == \"Thumbs.db\":\n",
    "        continue\n",
    "    img_path = os.path.join(test_path, test_name)\n",
    "    img = cv2.imread(img_path, 0)\n",
    "    imgOriginal = cv2.imread(img_path)\n",
    "    height, width = img.shape\n",
    "    imgFlatten = img.reshape(height*width, 1)\n",
    "    labels = model.predict(imgFlatten)\n",
    "    labels2D = labels.reshape(height, width)\n",
    "    mask = (labels2D==tumorLabel)\n",
    "    tumorExtracted = np.bitwise_and(mask, img)\n",
    "    contours, hiearachy = cv2.findContours(tumorExtracted, cv2.RETR_TREE, cv2.CHAIN_APPROX_SIMPLE)\n",
    "    \n",
    "    for index, cnt in enumerate(contours):\n",
    "        area = cv2.contourArea(cnt)\n",
    "        \n",
    "        if area > 1000:\n",
    "            cv2.drawContours(imgOriginal, [cnt], -1, (0, 255, 255), 2)\n",
    "            x,y,w,h = cv2.boundingRect(cnt)\n",
    "            cv2.rectangle(imgOriginal, (x, y), (x+w, y+h), (0,255,0), 2)\n",
    "            #cv2.rectangle(imgOriginal, (x, y), (x+120, y-40), (0,255,0), -1)\n",
    "            #cv2.putText(imgOriginal, \"Detected\", (x+10, y-10), cv2.FONT_HERSHEY_SIMPLEX, 1, (255, 255, 255), 2)\n",
    "    cv2.imshow('Live', imgOriginal)\n",
    "    cv2.waitKey(3000)\n",
    "    cv2.destroyAllWindows()"
   ]
  },
  {
   "cell_type": "code",
   "execution_count": null,
   "metadata": {},
   "outputs": [],
   "source": []
  }
 ],
 "metadata": {
  "kernelspec": {
   "display_name": "Python 3",
   "language": "python",
   "name": "python3"
  },
  "language_info": {
   "codemirror_mode": {
    "name": "ipython",
    "version": 3
   },
   "file_extension": ".py",
   "mimetype": "text/x-python",
   "name": "python",
   "nbconvert_exporter": "python",
   "pygments_lexer": "ipython3",
   "version": "3.6.5"
  }
 },
 "nbformat": 4,
 "nbformat_minor": 2
}
